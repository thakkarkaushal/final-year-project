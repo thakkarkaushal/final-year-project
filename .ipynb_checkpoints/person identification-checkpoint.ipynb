{
 "cells": [
  {
   "cell_type": "code",
   "execution_count": null,
   "metadata": {},
   "outputs": [],
   "source": [
    "import cv2\n",
    "import numpy as np\n",
    "\n",
    "# Create our body classifier\n",
    "body_classifier = cv2.CascadeClassifier('haarcascade_fullbody.xml')\n",
    "\n",
    "# Initiate video capture for video file, here we are using the video file in which pedestrians would be detected\n",
    "cap = cv2.VideoCapture('run.mp4')\n",
    "density=0\n",
    "listof=[]\n",
    "# Loop once video is successfully loaded\n",
    "while cap.isOpened():\n",
    "\n",
    "    # Reading the each frame of the video \n",
    "    ret, frame = cap.read()\n",
    "    if ret == False:\n",
    "        break\n",
    "  # here we are resizing the frame, to half of its size, we are doing to speed up the classification\n",
    " # as larger images have lot more windows to slide over, so in overall we reducing the resolution\n",
    "#of video by half that’s what 0.5 indicate, and we are also using quicker interpolation method that is #interlinear\n",
    "    frame = cv2.resize(frame, None,fx=0.5, fy=0.5, interpolation = cv2.INTER_LINEAR)\n",
    "\n",
    "    gray = cv2.cvtColor(frame, cv2.COLOR_BGR2GRAY)\n",
    "    # Pass frame to our body classifier\n",
    "    bodies = body_classifier.detectMultiScale(gray, 1.2, 3)\n",
    "    cv2.imshow('Pedestrians1', frame)\n",
    "    # Extract bounding boxes for any bodies identified\n",
    "    for (x,y,w,h) in bodies:\n",
    "        \n",
    "        cv2.rectangle(frame, (x, y), (x+w, y+h), (0, 255, 255), 2)\n",
    "        cv2.imshow('Pedestrians', frame)\n",
    "        print(str(x+w)+\" \"+str(y+h))\n",
    "        yh=y+h\n",
    "        xw=x+w\n",
    "        if yh>100 and xw>100:\n",
    "            if str(yh)+\"_\"+str(xw) not in listof:\n",
    "                listof.append(str(yh)+\"_\"+str(xw))\n",
    "                density+=1\n",
    "\n",
    "    if cv2.waitKey(20) == 13: #13 is the Enter Key\n",
    "        break\n",
    "\n",
    "cap.release()\n",
    "cv2.destroyAllWindows()\n",
    "density=density-500\n",
    "print(\"density of public calculated as \"+str(len(listof)/15))\n",
    "platformdensity=len(listof)/15\n",
    "print(\"length is  \"+str(len(listof)))\n",
    "print(listof)"
   ]
  }
 ],
 "metadata": {
  "kernelspec": {
   "display_name": "Python 3",
   "language": "python",
   "name": "python3"
  },
  "language_info": {
   "codemirror_mode": {
    "name": "ipython",
    "version": 3
   },
   "file_extension": ".py",
   "mimetype": "text/x-python",
   "name": "python",
   "nbconvert_exporter": "python",
   "pygments_lexer": "ipython3",
   "version": "3.7.1"
  }
 },
 "nbformat": 4,
 "nbformat_minor": 2
}
