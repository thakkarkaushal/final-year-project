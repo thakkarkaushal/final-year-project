{
 "cells": [
  {
   "cell_type": "code",
   "execution_count": 1,
   "metadata": {},
   "outputs": [
    {
     "name": "stderr",
     "output_type": "stream",
     "text": [
      "Using TensorFlow backend.\n"
     ]
    }
   ],
   "source": [
    "import cv2     # for capturing videos\n",
    "import math   # for mathematical operations\n",
    "import matplotlib.pyplot as plt    # for plotting the images\n",
    "%matplotlib inline\n",
    "import pandas as pd\n",
    "from keras.preprocessing import image   # for preprocessing the images\n",
    "import numpy as np    # for mathematical operations\n",
    "from keras.utils import np_utils\n",
    "from skimage.transform import resize   # for resizing images"
   ]
  },
  {
   "cell_type": "code",
   "execution_count": 2,
   "metadata": {},
   "outputs": [
    {
     "name": "stdout",
     "output_type": "stream",
     "text": [
      "Done!\n"
     ]
    }
   ],
   "source": [
    "count = 0\n",
    "videoFile = \"A-1.mp4\"\n",
    "cap = cv2.VideoCapture(videoFile)   # capturing the video from the given path\n",
    "frameRate = cap.get(5) #frame rate\n",
    "x=1\n",
    "while(cap.isOpened()):\n",
    "    frameId = cap.get(1) #current frame number\n",
    "    ret, frame = cap.read()\n",
    "    if (ret != True):\n",
    "        break\n",
    "    if (frameId % math.floor(frameRate) == 0):\n",
    "        filename =\"crowd\\\\crowd%d.jpg\" % count;count+=1\n",
    "        cv2.imwrite(filename, frame)\n",
    "cap.release()\n",
    "print (\"Done!\")"
   ]
  },
  {
   "cell_type": "code",
   "execution_count": 3,
   "metadata": {},
   "outputs": [
    {
     "name": "stdout",
     "output_type": "stream",
     "text": [
      "frame0\n",
      "frame1\n",
      "frame2\n",
      "frame3\n",
      "frame4\n",
      "frame5\n",
      "frame6\n",
      "frame7\n",
      "frame8\n",
      "frame9\n",
      "frame10\n",
      "frame11\n",
      "frame12\n",
      "frame13\n",
      "frame14\n",
      "frame15\n",
      "frame16\n",
      "frame17\n",
      "frame18\n",
      "frame19\n",
      "frame20\n",
      "frame21\n",
      "frame22\n",
      "frame23\n",
      "frame24\n",
      "frame25\n",
      "frame26\n",
      "frame27\n",
      "frame28\n",
      "frame29\n",
      "frame30\n",
      "frame31\n",
      "frame32\n",
      "frame33\n",
      "frame34\n",
      "frame35\n",
      "frame36\n",
      "frame37\n",
      "frame38\n",
      "frame39\n",
      "frame40\n",
      "frame41\n",
      "frame42\n",
      "frame43\n",
      "frame44\n",
      "frame45\n",
      "frame46\n",
      "frame47\n",
      "frame48\n",
      "frame49\n",
      "frame50\n",
      "frame51\n",
      "frame52\n",
      "frame53\n",
      "frame54\n",
      "frame55\n",
      "frame56\n",
      "frame57\n",
      "frame58\n",
      "frame59\n",
      "frame60\n",
      "frame61\n",
      "frame62\n",
      "frame63\n",
      "frame64\n",
      "frame65\n",
      "frame66\n",
      "frame67\n",
      "frame68\n",
      "frame69\n",
      "frame70\n",
      "frame71\n",
      "frame72\n",
      "frame73\n",
      "frame74\n",
      "frame75\n",
      "frame76\n",
      "frame77\n",
      "frame78\n",
      "frame79\n",
      "frame80\n",
      "frame81\n",
      "frame82\n",
      "frame83\n",
      "frame84\n",
      "frame85\n",
      "frame86\n",
      "frame87\n",
      "frame88\n",
      "frame89\n",
      "frame90\n",
      "frame91\n",
      "frame92\n",
      "frame93\n",
      "frame94\n",
      "frame95\n",
      "frame96\n",
      "frame97\n",
      "frame98\n",
      "frame99\n",
      "frame100\n",
      "frame101\n",
      "frame102\n",
      "frame103\n",
      "frame104\n",
      "frame105\n",
      "frame106\n",
      "frame107\n",
      "frame108\n",
      "frame109\n",
      "frame110\n",
      "frame111\n",
      "frame112\n",
      "frame113\n",
      "frame114\n",
      "frame115\n",
      "frame116\n",
      "frame117\n",
      "frame118\n",
      "frame119\n",
      "frame120\n",
      "frame121\n",
      "frame122\n",
      "frame123\n",
      "frame124\n",
      "frame125\n",
      "frame126\n",
      "frame127\n",
      "frame128\n",
      "frame129\n",
      "frame130\n",
      "frame131\n",
      "frame132\n",
      "frame133\n",
      "frame134\n",
      "frame135\n",
      "frame136\n",
      "frame137\n",
      "frame138\n",
      "frame139\n",
      "frame140\n",
      "frame141\n",
      "frame142\n",
      "frame143\n",
      "frame144\n",
      "frame145\n",
      "frame146\n",
      "frame147\n",
      "frame148\n",
      "frame149\n",
      "frame150\n",
      "frame151\n",
      "frame152\n",
      "frame153\n",
      "frame154\n",
      "frame155\n",
      "frame156\n",
      "frame157\n",
      "frame158\n",
      "frame159\n",
      "frame160\n",
      "frame161\n",
      "frame162\n",
      "frame163\n",
      "frame164\n",
      "frame165\n",
      "frame166\n",
      "frame167\n",
      "frame168\n",
      "frame169\n",
      "frame170\n",
      "frame171\n",
      "frame172\n",
      "frame173\n",
      "frame174\n",
      "frame175\n",
      "frame176\n",
      "frame177\n",
      "frame178\n",
      "frame179\n",
      "frame180\n",
      "frame181\n",
      "frame182\n",
      "frame183\n",
      "frame184\n",
      "frame185\n",
      "frame186\n",
      "frame187\n",
      "frame188\n",
      "frame189\n",
      "frame190\n",
      "frame191\n",
      "frame192\n",
      "frame193\n",
      "frame194\n",
      "frame195\n",
      "frame196\n",
      "frame197\n",
      "frame198\n",
      "frame199\n",
      "frame200\n",
      "frame201\n",
      "frame202\n",
      "frame203\n",
      "frame204\n",
      "frame205\n",
      "frame206\n",
      "frame207\n",
      "frame208\n",
      "frame209\n",
      "frame210\n",
      "frame211\n",
      "frame212\n",
      "frame213\n",
      "frame214\n",
      "frame215\n",
      "frame216\n",
      "frame217\n",
      "frame218\n",
      "frame219\n",
      "frame220\n",
      "frame221\n",
      "frame222\n",
      "frame223\n",
      "frame224\n",
      "frame225\n",
      "frame226\n",
      "frame227\n",
      "frame228\n",
      "frame229\n",
      "frame230\n",
      "frame231\n",
      "frame232\n",
      "frame233\n",
      "frame234\n",
      "frame235\n",
      "frame236\n",
      "frame237\n",
      "frame238\n",
      "frame239\n",
      "frame240\n",
      "frame241\n",
      "frame242\n",
      "frame243\n",
      "frame244\n",
      "frame245\n",
      "frame246\n",
      "frame247\n",
      "frame248\n",
      "frame249\n",
      "frame250\n",
      "frame251\n",
      "frame252\n",
      "frame253\n",
      "frame254\n",
      "frame255\n",
      "frame256\n",
      "frame257\n",
      "frame258\n",
      "frame259\n",
      "frame260\n",
      "frame261\n",
      "frame262\n",
      "frame263\n",
      "frame264\n",
      "frame265\n",
      "frame266\n",
      "frame267\n",
      "frame268\n",
      "frame269\n",
      "frame270\n",
      "frame271\n",
      "frame272\n",
      "frame273\n",
      "frame274\n",
      "frame275\n",
      "frame276\n",
      "frame277\n",
      "frame278\n",
      "frame279\n",
      "frame280\n",
      "frame281\n",
      "frame282\n",
      "frame283\n",
      "frame284\n",
      "frame285\n",
      "frame286\n",
      "frame287\n",
      "frame288\n",
      "frame289\n",
      "frame290\n",
      "frame291\n",
      "frame292\n",
      "frame293\n",
      "frame294\n",
      "frame295\n",
      "frame296\n",
      "frame297\n",
      "frame298\n",
      "frame299\n"
     ]
    }
   ],
   "source": [
    "generate_names=\"frame\"\n",
    "for i in range(300):\n",
    "    newstr=generate_names+''+str(i)\n",
    "    print(newstr)"
   ]
  },
  {
   "cell_type": "code",
   "execution_count": 74,
   "metadata": {},
   "outputs": [
    {
     "data": {
      "text/plain": [
       "<matplotlib.image.AxesImage at 0x2953022a8d0>"
      ]
     },
     "execution_count": 74,
     "metadata": {},
     "output_type": "execute_result"
    },
    {
     "data": {
      "image/png": "[encoded data removed]",
      "text/plain": [
       "<Figure size 432x288 with 1 Axes>"
      ]
     },
     "metadata": {
      "needs_background": "light"
     },
     "output_type": "display_data"
    }
   ],
   "source": [
    "pathofdata=\"abnomral//\"\n",
    "img = plt.imread(pathofdata+'frame0.jpg')   # reading image using its name\n",
    "plt.imshow(img)"
   ]
  },
  {
   "cell_type": "code",
   "execution_count": 89,
   "metadata": {},
   "outputs": [
    {
     "data": {
      "text/html": [
       "<div>\n",
       "<style scoped>\n",
       "    .dataframe tbody tr th:only-of-type {\n",
       "        vertical-align: middle;\n",
       "    }\n",
       "\n",
       "    .dataframe tbody tr th {\n",
       "        vertical-align: top;\n",
       "    }\n",
       "\n",
       "    .dataframe thead th {\n",
       "        text-align: right;\n",
       "    }\n",
       "</style>\n",
       "<table border=\"1\" class=\"dataframe\">\n",
       "  <thead>\n",
       "    <tr style=\"text-align: right;\">\n",
       "      <th></th>\n",
       "      <th>Image_ID</th>\n",
       "      <th>Class</th>\n",
       "    </tr>\n",
       "  </thead>\n",
       "  <tbody>\n",
       "    <tr>\n",
       "      <th>0</th>\n",
       "      <td>frame0.jpg</td>\n",
       "      <td>0</td>\n",
       "    </tr>\n",
       "    <tr>\n",
       "      <th>1</th>\n",
       "      <td>frame1.jpg</td>\n",
       "      <td>0</td>\n",
       "    </tr>\n",
       "    <tr>\n",
       "      <th>2</th>\n",
       "      <td>frame2.jpg</td>\n",
       "      <td>0</td>\n",
       "    </tr>\n",
       "    <tr>\n",
       "      <th>3</th>\n",
       "      <td>frame3.jpg</td>\n",
       "      <td>0</td>\n",
       "    </tr>\n",
       "    <tr>\n",
       "      <th>4</th>\n",
       "      <td>frame4.jpg</td>\n",
       "      <td>0</td>\n",
       "    </tr>\n",
       "  </tbody>\n",
       "</table>\n",
       "</div>"
      ],
      "text/plain": [
       "     Image_ID  Class\n",
       "0  frame0.jpg      0\n",
       "1  frame1.jpg      0\n",
       "2  frame2.jpg      0\n",
       "3  frame3.jpg      0\n",
       "4  frame4.jpg      0"
      ]
     },
     "execution_count": 89,
     "metadata": {},
     "output_type": "execute_result"
    }
   ],
   "source": [
    "data = pd.read_csv('mapping.csv')     # reading the csv file\n",
    "data.head()      # printing first five rows of the file"
   ]
  },
  {
   "cell_type": "code",
   "execution_count": 90,
   "metadata": {},
   "outputs": [],
   "source": [
    "X = [ ]     # creating an empty array\n",
    "for img_name in data.Image_ID:\n",
    "    img = plt.imread('' +pathofdata+ img_name)\n",
    "    X.append(img)  # storing each image in array X\n",
    "X = np.array(X)    "
   ]
  },
  {
   "cell_type": "code",
   "execution_count": 91,
   "metadata": {},
   "outputs": [],
   "source": [
    "y = data.Class\n",
    "dummy_y = np_utils.to_categorical(y)   "
   ]
  },
  {
   "cell_type": "code",
   "execution_count": 92,
   "metadata": {},
   "outputs": [],
   "source": [
    "image = []\n",
    "for i in range(0,X.shape[0]):\n",
    "    a = resize(X[i], preserve_range=True, output_shape=(224,224)).astype(int)    \n",
    "    image.append(a)\n",
    "X = np.array(image)"
   ]
  },
  {
   "cell_type": "code",
   "execution_count": 93,
   "metadata": {},
   "outputs": [],
   "source": [
    "from keras.applications.vgg16 import preprocess_input\n",
    "X = preprocess_input(X, mode='tf')      # preprocessing the input data"
   ]
  },
  {
   "cell_type": "code",
   "execution_count": 94,
   "metadata": {},
   "outputs": [],
   "source": [
    "from sklearn.model_selection import train_test_split\n",
    "X_train, X_valid, y_train, y_valid = train_test_split(X, dummy_y, test_size=0.3, random_state=42)    # preparing the validation set"
   ]
  },
  {
   "cell_type": "code",
   "execution_count": 95,
   "metadata": {},
   "outputs": [],
   "source": [
    "from keras.models import Sequential\n",
    "from keras.applications.vgg16 import VGG16\n",
    "from keras.layers import Dense, InputLayer, Dropout"
   ]
  },
  {
   "cell_type": "code",
   "execution_count": 96,
   "metadata": {},
   "outputs": [],
   "source": [
    "base_model = VGG16(weights='imagenet', include_top=False, input_shape=(224, 224, 3))    # include_top=False to remove the top layer"
   ]
  },
  {
   "cell_type": "code",
   "execution_count": 97,
   "metadata": {},
   "outputs": [
    {
     "data": {
      "text/plain": [
       "((180, 7, 7, 512), (78, 7, 7, 512))"
      ]
     },
     "execution_count": 97,
     "metadata": {},
     "output_type": "execute_result"
    }
   ],
   "source": [
    "X_train = base_model.predict(X_train)\n",
    "X_valid = base_model.predict(X_valid)\n",
    "X_train.shape, X_valid.shape"
   ]
  },
  {
   "cell_type": "code",
   "execution_count": 98,
   "metadata": {},
   "outputs": [],
   "source": [
    "X_train = X_train.reshape(180, 7*7*512)      # converting to 1-D\n",
    "X_valid = X_valid.reshape(78, 7*7*512)"
   ]
  },
  {
   "cell_type": "code",
   "execution_count": 99,
   "metadata": {},
   "outputs": [],
   "source": [
    "train = X_train/X_train.max()    # centering the data\n",
    "X_valid = X_valid/X_train.max()"
   ]
  },
  {
   "cell_type": "code",
   "execution_count": 104,
   "metadata": {},
   "outputs": [
    {
     "name": "stdout",
     "output_type": "stream",
     "text": [
      "_________________________________________________________________\n",
      "Layer (type)                 Output Shape              Param #   \n",
      "=================================================================\n",
      "dense_9 (Dense)              (None, 1024)              25691136  \n",
      "_________________________________________________________________\n",
      "dense_10 (Dense)             (None, 3)                 3075      \n",
      "=================================================================\n",
      "Total params: 25,694,211\n",
      "Trainable params: 25,694,211\n",
      "Non-trainable params: 0\n",
      "_________________________________________________________________\n"
     ]
    }
   ],
   "source": [
    "model = Sequential()\n",
    "model.add(InputLayer((7*7*512,)))    # input layer\n",
    "model.add(Dense(units=1024, activation='sigmoid')) # hidden layer\n",
    "model.add(Dense(3, activation='softmax'))    # output layer\n",
    "model.summary()"
   ]
  },
  {
   "cell_type": "code",
   "execution_count": 105,
   "metadata": {},
   "outputs": [],
   "source": [
    "model.compile(loss='categorical_crossentropy', optimizer='adam', metrics=['accuracy'])"
   ]
  },
  {
   "cell_type": "code",
   "execution_count": 106,
   "metadata": {},
   "outputs": [
    {
     "name": "stdout",
     "output_type": "stream",
     "text": [
      "Train on 180 samples, validate on 78 samples\n",
      "Epoch 1/10\n",
      "180/180 [==============================] - 3s 19ms/step - loss: 1.1653 - acc: 0.6056 - val_loss: 0.8147 - val_acc: 0.7436\n",
      "Epoch 2/10\n",
      "180/180 [==============================] - 2s 12ms/step - loss: 0.7982 - acc: 0.7667 - val_loss: 0.8132 - val_acc: 0.6923\n",
      "Epoch 3/10\n",
      "180/180 [==============================] - 2s 12ms/step - loss: 0.5248 - acc: 0.8333 - val_loss: 0.7004 - val_acc: 0.7564\n",
      "Epoch 4/10\n",
      "180/180 [==============================] - 2s 12ms/step - loss: 0.4915 - acc: 0.8111 - val_loss: 0.6559 - val_acc: 0.7436\n",
      "Epoch 5/10\n",
      "180/180 [==============================] - 2s 13ms/step - loss: 0.3812 - acc: 0.8444 - val_loss: 0.5824 - val_acc: 0.7692\n",
      "Epoch 6/10\n",
      "180/180 [==============================] - 2s 12ms/step - loss: 0.3159 - acc: 0.8889 - val_loss: 0.5664 - val_acc: 0.7692\n",
      "Epoch 7/10\n",
      "180/180 [==============================] - 2s 12ms/step - loss: 0.2811 - acc: 0.9167 - val_loss: 0.5745 - val_acc: 0.7821\n",
      "Epoch 8/10\n",
      "180/180 [==============================] - 2s 12ms/step - loss: 0.2620 - acc: 0.9278 - val_loss: 0.5525 - val_acc: 0.7692\n",
      "Epoch 9/10\n",
      "180/180 [==============================] - 2s 12ms/step - loss: 0.2212 - acc: 0.9500 - val_loss: 0.5785 - val_acc: 0.7949\n",
      "Epoch 10/10\n",
      "180/180 [==============================] - 2s 12ms/step - loss: 0.2017 - acc: 0.9333 - val_loss: 0.4962 - val_acc: 0.7949\n"
     ]
    },
    {
     "data": {
      "text/plain": [
       "<keras.callbacks.History at 0x29507954b70>"
      ]
     },
     "execution_count": 106,
     "metadata": {},
     "output_type": "execute_result"
    }
   ],
   "source": [
    "model.fit(train, y_train, epochs=10, validation_data=(X_valid, y_valid))"
   ]
  },
  {
   "cell_type": "code",
   "execution_count": 162,
   "metadata": {},
   "outputs": [
    {
     "name": "stdout",
     "output_type": "stream",
     "text": [
      "Done!\n"
     ]
    }
   ],
   "source": [
    "#test data \n",
    "pathoftest=\"test//\"\n",
    "count = 0\n",
    "videoFile = \"Crowd-Activity-All.avi\"\n",
    "cap = cv2.VideoCapture(videoFile)\n",
    "frameRate = cap.get(5) #frame rate\n",
    "x=1\n",
    "while(cap.isOpened()):\n",
    "    frameId = cap.get(1) #current frame number\n",
    "    ret, frame = cap.read()\n",
    "    if (ret != True):\n",
    "        break\n",
    "    if (frameId % math.floor(frameRate) == 0):\n",
    "        filename =\"test%d.jpg\" % count;count+=1\n",
    "        cv2.imwrite(filename, frame)\n",
    "cap.release()\n",
    "print (\"Done!\")"
   ]
  },
  {
   "cell_type": "code",
   "execution_count": 161,
   "metadata": {},
   "outputs": [],
   "source": [
    "generate_names=\"test\"\n",
    "for i in range(258):\n",
    "    newstr=generate_names+''+str(i)+'.jpg'\n",
    "    #print(newstr)"
   ]
  },
  {
   "cell_type": "code",
   "execution_count": 195,
   "metadata": {},
   "outputs": [
    {
     "data": {
      "text/plain": [
       "(158, 240, 320, 3)"
      ]
     },
     "execution_count": 195,
     "metadata": {},
     "output_type": "execute_result"
    }
   ],
   "source": [
    "test = pd.read_csv('test.csv')\n",
    "test_image = []\n",
    "for img_name in test.Image_ID:\n",
    "    img = plt.imread(pathoftest+img_name)\n",
    "    test_image.append(img)\n",
    "test_img = np.array(test_image)\n",
    "#test_image\n",
    "test_img.shape"
   ]
  },
  {
   "cell_type": "code",
   "execution_count": 196,
   "metadata": {},
   "outputs": [],
   "source": [
    "test_image = []\n",
    "for i in range(0,test_img.shape[0]):\n",
    "    a = resize(test_img[i], preserve_range=True, output_shape=(224,224)).astype(int)\n",
    "    test_image.append(a)\n",
    "test_image = np.array(test_image)\n",
    "#test_image"
   ]
  },
  {
   "cell_type": "code",
   "execution_count": 197,
   "metadata": {},
   "outputs": [
    {
     "data": {
      "text/plain": [
       "(158, 224, 224, 3)"
      ]
     },
     "execution_count": 197,
     "metadata": {},
     "output_type": "execute_result"
    }
   ],
   "source": [
    "test_image.shape\n",
    "#test_image"
   ]
  },
  {
   "cell_type": "code",
   "execution_count": 198,
   "metadata": {},
   "outputs": [],
   "source": [
    "# preprocessing the images\n",
    "test_image = preprocess_input(test_image, mode='tf')\n",
    "\n",
    "# converting the images to 1-D form\n",
    "\n",
    "# extracting features from the images using pretrained model\n",
    "test_image = base_model.predict(test_image)\n"
   ]
  },
  {
   "cell_type": "code",
   "execution_count": 199,
   "metadata": {},
   "outputs": [],
   "source": [
    "test_image = test_image.reshape(158, 7*7*512)\n",
    "\n",
    "\n",
    "# zero centered images\n",
    "test_image = test_image/test_image.max()"
   ]
  },
  {
   "cell_type": "code",
   "execution_count": 200,
   "metadata": {},
   "outputs": [
    {
     "data": {
      "text/plain": [
       "(158, 25088)"
      ]
     },
     "execution_count": 200,
     "metadata": {},
     "output_type": "execute_result"
    }
   ],
   "source": [
    "test_image.shape"
   ]
  },
  {
   "cell_type": "code",
   "execution_count": 201,
   "metadata": {},
   "outputs": [],
   "source": [
    "predictions = model.predict_classes(test_image)"
   ]
  },
  {
   "cell_type": "code",
   "execution_count": 202,
   "metadata": {},
   "outputs": [
    {
     "name": "stdout",
     "output_type": "stream",
     "text": [
      "The abnormal behaviour of crowd detected is 28 \n",
      "The normal behaviour of crowd detected is 124 \n"
     ]
    }
   ],
   "source": [
    "print(\"The abnormal behaviour of crowd detected is\", predictions[predictions==1].shape[0], \"\")\n",
    "print(\"The normal behaviour of crowd detected is\", predictions[predictions==0].shape[0], \"\")"
   ]
  },
  {
   "cell_type": "code",
   "execution_count": 203,
   "metadata": {},
   "outputs": [
    {
     "name": "stdout",
     "output_type": "stream",
     "text": [
      "0.930379746835443\n"
     ]
    }
   ],
   "source": [
    "test = pd.read_csv('test.csv')\n",
    "y_actual=test['class']\n",
    "\n",
    "from sklearn import metrics\n",
    "print(metrics.accuracy_score( predictions,y_actual))"
   ]
  },
  {
   "cell_type": "code",
   "execution_count": null,
   "metadata": {},
   "outputs": [],
   "source": []
  }
 ],
 "metadata": {
  "kernelspec": {
   "display_name": "Python 3",
   "language": "python",
   "name": "python3"
  },
  "language_info": {
   "codemirror_mode": {
    "name": "ipython",
    "version": 3
   },
   "file_extension": ".py",
   "mimetype": "text/x-python",
   "name": "python",
   "nbconvert_exporter": "python",
   "pygments_lexer": "ipython3",
   "version": "3.7.1"
  }
 },
 "nbformat": 4,
 "nbformat_minor": 2
}
