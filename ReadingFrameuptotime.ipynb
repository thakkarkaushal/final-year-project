{
 "cells": [
  {
   "cell_type": "code",
   "execution_count": 4,
   "metadata": {},
   "outputs": [
    {
     "name": "stdout",
     "output_type": "stream",
     "text": [
      "\n",
      "False\n"
     ]
    }
   ],
   "source": [
    "import numpy as np\n",
    "import cv2\n",
    "\n",
    "#Get video name from user\n",
    "#Ginen video name must be in quotes, e.g. \"pirkagia.avi\" or \"plaque.avi\"\n",
    "video_name = 'A-1.mp4'\n",
    "\n",
    "#Open the video file\n",
    "cap = cv2.VideoCapture(video_name)\n",
    "\n",
    "#Set frame_no in range 0.0-1.0\n",
    "#In this example we have a video of 30 seconds having 25 frames per seconds, thus we have 750 frames.\n",
    "#The examined frame must get a value from 0 to 749.\n",
    "#For more info about the video flags see here: https://stackoverflow.com/questions/11420748/setting-camera-parameters-in-opencv-python\n",
    "#Here we select the last frame as frame sequence=749. In case you want to select other frame change value 749.\n",
    "#BE CAREFUL! Each video has different time length and frame rate. \n",
    "#So make sure that you have the right parameters for the right video!\n",
    "time_length = 30.0\n",
    "fps=25\n",
    "frame_seq = 749\n",
    "frame_no = (frame_seq /(time_length*fps))\n",
    "\n",
    "#The first argument of cap.set(), number 2 defines that parameter for setting the frame selection.\n",
    "#Number 2 defines flag CV_CAP_PROP_POS_FRAMES which is a 0-based index of the frame to be decoded/captured next.\n",
    "#The second argument defines the frame number in range 0.0-1.0\n",
    "cap.set(2,frame_no)\n",
    "\n",
    "#Read the next frame from the video. If you set frame 749 above then the code will return the last frame.\n",
    "while cap.isOpened():\n",
    "\n",
    "    # Reading the each frame of the video \n",
    "    #ret, frame = cap.read()\n",
    "    print()\n",
    "    ret, frame = cap.read()\n",
    "    print(ret)\n",
    "    if ret == False:\n",
    "        break\n",
    "#Set grayscale colorspace for the frame. \n",
    "    gray = cv2.cvtColor(frame, cv2.COLOR_BGR2GRAY)\n",
    "\n",
    "#Cut the video extension to have the name of the video\n",
    "    my_video_name = video_name.split(\".\")[0]\n",
    "\n",
    "#Display the resulting frame\n",
    "    cv2.imshow(my_video_name+' frame '+ str(frame_seq),gray)\n",
    "\n",
    "#Set waitKey \n",
    "    cv2.waitKey()\n",
    "\n",
    "#Store this frame to an image\n",
    "    cv2.imwrite(my_video_name+'_frame_'+str(frame_seq)+'.jpg',gray)\n",
    "\n",
    "# When everything done, release the capture\n",
    "cap.release()\n",
    "cv2.destroyAllWindows()"
   ]
  },
  {
   "cell_type": "code",
   "execution_count": null,
   "metadata": {},
   "outputs": [],
   "source": []
  }
 ],
 "metadata": {
  "kernelspec": {
   "display_name": "Python 3",
   "language": "python",
   "name": "python3"
  },
  "language_info": {
   "codemirror_mode": {
    "name": "ipython",
    "version": 3
   },
   "file_extension": ".py",
   "mimetype": "text/x-python",
   "name": "python",
   "nbconvert_exporter": "python",
   "pygments_lexer": "ipython3",
   "version": "3.7.1"
  }
 },
 "nbformat": 4,
 "nbformat_minor": 2
}
